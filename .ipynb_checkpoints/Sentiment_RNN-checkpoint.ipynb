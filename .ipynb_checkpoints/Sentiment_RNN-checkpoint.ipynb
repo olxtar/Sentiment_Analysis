{
 "cells": [
  {
   "cell_type": "markdown",
   "id": "571534dc",
   "metadata": {},
   "source": [
    "# 03. Notebook: Sentiment RNN\n",
    "\n",
    "영화 리뷰들을 분석하여 해당 리뷰가 긍정적 리뷰인지 / 부정적 리뷰인지 예측하는 모델만들기\n",
    "\n",
    "---"
   ]
  },
  {
   "cell_type": "code",
   "execution_count": 1,
   "id": "b98eadab",
   "metadata": {},
   "outputs": [
    {
     "data": {
      "text/plain": [
       "'C:\\\\Users\\\\USER\\\\Desktop\\\\Sentiment_Analysis'"
      ]
     },
     "execution_count": 1,
     "metadata": {},
     "output_type": "execute_result"
    }
   ],
   "source": [
    "import os\n",
    "os.getcwd()"
   ]
  },
  {
   "cell_type": "markdown",
   "id": "14cdd65b",
   "metadata": {},
   "source": [
    "## 01. Data pre-processing"
   ]
  },
  {
   "cell_type": "markdown",
   "id": "6e537e9e",
   "metadata": {},
   "source": [
    "### 1-0.Load in and visualize the data"
   ]
  },
  {
   "cell_type": "code",
   "execution_count": 7,
   "id": "bee46d53",
   "metadata": {},
   "outputs": [],
   "source": [
    "import numpy as np\n",
    "\n",
    "# Read data from text files\n",
    "with open('data/reviews.txt', 'r') as f:\n",
    "    reviews = f.read()\n",
    "    \n",
    "with open('data/labels.txt', 'r') as f:\n",
    "    labels = f.read()"
   ]
  },
  {
   "cell_type": "code",
   "execution_count": 15,
   "id": "d7aebb82",
   "metadata": {},
   "outputs": [
    {
     "name": "stdout",
     "output_type": "stream",
     "text": [
      "The number of Review's characters: 33678267\n",
      "\n",
      "Review data sample: \n",
      " bromwell high is a cartoon comedy . it ran at the same time as some other programs about school life  such as  teachers  . my   years in the teaching profession lead me to believe that bromwell high  s satire is much closer to reality than is  teachers  . the scramble to survive financially  the insightful students who can see right through their pathetic teachers  pomp  the pettiness of the whole situation  all remind me of the schools i knew and their students . when i saw the episode in which a student repeatedly tried to burn down the school  i immediately recalled . . . . . . . . . at . . . . . . . . . . high . a classic line inspector i  m here to sack one of your teachers . student welcome to bromwell high . i expect that many adults of my age think that bromwell high is far fetched . what a pity that it isn  t   \n",
      "story of a man who has unnatural feelings for a pig . starts out with a opening scene that is a terrific example of absurd comedy . a formal orchestra audience is turned into an insane  violent mob by the crazy chantings of it  s singers . unfortunately it stays absurd the whole time with no general narrative eventually making it just too off putting . even those from the era should be turned off . the cryptic dialogue would make shakespeare seem easy to a third grader . on a technical level it  s better than you might think with some good cinematography by future great vilmos zsigmond . future stars sally kirkland and frederic forrest can be seen briefly .  \n",
      "homelessness  or houselessness as george carlin stated  has been an issue for years but never a plan to help those on the street that were once considered human who did everything from going to school  work  or vote for the matter . most people think of the homeless as just a lost cause while worrying about things such as racism  the war on iraq  pressuring kids to succeed  technology  the elections  inflation  or worrying if they  ll be next to end up on the streets .  br    br   but what if y\n",
      "\n",
      "Label data sample: \n",
      " positive\n",
      "negative\n",
      "positive\n",
      "negative\n",
      "positive\n",
      "negative\n",
      "positive\n",
      "negative\n",
      "positive\n",
      "negative\n",
      "positive\n",
      "n\n"
     ]
    }
   ],
   "source": [
    "print(f\"The number of Review's characters: {len(reviews)}\")\n",
    "print()\n",
    "print(f\"Review data sample: \\n {reviews[:2000]}\")\n",
    "print()\n",
    "print(f\"Label data sample: \\n {labels[:100]}\")"
   ]
  },
  {
   "cell_type": "markdown",
   "id": "e4e82156",
   "metadata": {},
   "source": [
    "**Comment** :\n",
    "\n",
    "\n",
    "\n",
    "대략 3천3백만개의 글자로 이루어진 리뷰 텍스트 데이터가 있고\n",
    "\n",
    "\n",
    "각 리뷰에 대한 긍정/부정 정답, 즉 라벨데이터도 단순 텍스트덩어리로 되어있구나\n",
    "\n",
    "\n",
    "대충 리뷰를 읽어보니 Airport77이라는 영화의 리뷰인거같고 각 리뷰간의 구분은 `\\n`, 즉 줄바꿈으로 되는거같다"
   ]
  },
  {
   "cell_type": "markdown",
   "id": "eb35e9ea",
   "metadata": {},
   "source": [
    "### 1-1. Data pre-processing\n",
    "\n",
    "텍스트데이터 -> 단어\n",
    "\n",
    "단어 -> 정수 (with Embedding layer)가 되어야 RNN에 사용할 수 있음"
   ]
  },
  {
   "cell_type": "code",
   "execution_count": 17,
   "id": "00a5c947",
   "metadata": {},
   "outputs": [
    {
     "name": "stdout",
     "output_type": "stream",
     "text": [
      "!\"#$%&'()*+,-./:;<=>?@[\\]^_`{|}~\n"
     ]
    }
   ],
   "source": [
    "# 텍스트 정제\n",
    "# 소문자로 변경, 구두점 삭제\n",
    "from string import punctuation\n",
    "print(punctuation)\n",
    "\n",
    "reviews = reviews.lower()\n",
    "all_text = ''.join([c for c in reviews if c not in punctuation])"
   ]
  },
  {
   "cell_type": "code",
   "execution_count": 19,
   "id": "70fa6901",
   "metadata": {},
   "outputs": [],
   "source": [
    "# 리뷰간 구분하여 리스트만들기, 즉 [리뷰1, 리뷰2, 리뷰3...]\n",
    "reviews_split = all_text.split('\\n')\n",
    "\n",
    "# 딕셔너리 만들기 위해!\n",
    "# 리스트로 쪼개진 리뷰들을 띄어쓰기로 구분하여 다시 덩어리로 만들기\n",
    "all_text = ' '.join(reviews_split)"
   ]
  },
  {
   "cell_type": "code",
   "execution_count": 22,
   "id": "a9d83807",
   "metadata": {},
   "outputs": [
    {
     "data": {
      "text/plain": [
       "['bromwell', 'high', 'is', 'a', 'cartoon', 'comedy', 'it', 'ran', 'at', 'the']"
      ]
     },
     "execution_count": 22,
     "metadata": {},
     "output_type": "execute_result"
    }
   ],
   "source": [
    "# 단어 리스트로 만들기 (리뷰간 구분없는)\n",
    "words = all_text.split()\n",
    "words[:10]"
   ]
  },
  {
   "cell_type": "markdown",
   "id": "d34b3d01",
   "metadata": {},
   "source": [
    "### 1-2. Encoding the words\n",
    "\n",
    "Embedding Lookup Table을 사용하려면 입력이 '정수값'이어야 하므로 단어<-> 정수 Dictionary를 만들자 (빈도수순으로 정렬해서~)"
   ]
  },
  {
   "cell_type": "code",
   "execution_count": 24,
   "id": "0f0c99fa",
   "metadata": {},
   "outputs": [],
   "source": [
    "from collections import Counter\n",
    "counts = Counter(words)\n",
    "vocab = sorted(counts, key=counts.get, reverse=True)"
   ]
  },
  {
   "cell_type": "markdown",
   "id": "eedcee7c",
   "metadata": {},
   "source": [
    "<span style=\"color:red\">[!]</span> 추후에 패딩을 '0'으로 할것이므로 겹치지 않게 정수값 시작을 '1'부터로 하자"
   ]
  },
  {
   "cell_type": "code",
   "execution_count": 26,
   "id": "7c4c528f",
   "metadata": {},
   "outputs": [],
   "source": [
    "vocab_to_int = { word: ii for ii, word in enumerate(vocab, start=1)}"
   ]
  },
  {
   "cell_type": "markdown",
   "id": "f8b9d7e2",
   "metadata": {},
   "source": [
    "리뷰 단어 -> 정수로 변환\n",
    "\n",
    "아까 위에서 만들어놨던 (정제된) 리뷰 리스트 `reviews_split` [리뷰1, 리뷰2, 리뷰3...]을 이제 정수로 변환해주자\n",
    "\n",
    "* [리뷰1, 리뷰2, ...] 리스트를 for loop로 돌린다\n",
    "* 하나씩 나오는 리뷰를 `split()`을 통해 단어가 나오게끔 for loop로 돌린다\n",
    "* 튀어나오는 단어들을 딕셔너리로 변환하여 리스트에 쌓는다\n",
    "* 결론적으로 [[리뷰1단어1, 리뷰1단어2,...], [리뷰2단어1, 리뷰2단어2], ....]와 같은 이중 리스트가 됨"
   ]
  },
  {
   "cell_type": "code",
   "execution_count": 30,
   "id": "5c1fad3b",
   "metadata": {},
   "outputs": [],
   "source": [
    "reviews_ints = []\n",
    "\n",
    "for review in reviews_split:\n",
    "    reviews_ints.append([vocab_to_int[word] for word in review.split()])"
   ]
  },
  {
   "cell_type": "markdown",
   "id": "81e175c3",
   "metadata": {},
   "source": [
    "### 1-3. Encoding the labels\n",
    "\n",
    "아래처럼 각 리뷰에 대한 긍정/부정 라벨을 쪼개고, \n",
    "\n",
    "Positive는 1, Negative는 0으로 바꿔주자"
   ]
  },
  {
   "cell_type": "code",
   "execution_count": 32,
   "id": "2206de6c",
   "metadata": {},
   "outputs": [
    {
     "data": {
      "text/plain": [
       "'positive\\nnegative\\npositive\\nnegative\\npositive\\nnegat'"
      ]
     },
     "execution_count": 32,
     "metadata": {},
     "output_type": "execute_result"
    }
   ],
   "source": [
    "labels[:50]"
   ]
  },
  {
   "cell_type": "code",
   "execution_count": 34,
   "id": "764fcf09",
   "metadata": {},
   "outputs": [
    {
     "name": "stdout",
     "output_type": "stream",
     "text": [
      "[1, 0, 1, 0, 1, 0, 1, 0, 1, 0]\n"
     ]
    }
   ],
   "source": [
    "labels_split = labels.split('\\n')\n",
    "encoded_labels = [1 if label == 'positive' else 0 for label in labels_split]\n",
    "print(encoded_labels[:10])"
   ]
  },
  {
   "cell_type": "markdown",
   "id": "da71ac0c",
   "metadata": {},
   "source": [
    "### 1-4. Removing Outliers"
   ]
  },
  {
   "cell_type": "markdown",
   "id": "44d48a8d",
   "metadata": {},
   "source": [
    "<span style=\"color:green\">Additional pre-processing</span>\n",
    "\n",
    "`reviews_ints`는 아래와 같은 이차원(?) 리스트임\n",
    "\n",
    "[[리뷰1단어1, 리뷰1단어2,...],[리뷰2단어1, 리뷰2단어2,...],....]\n",
    "\n",
    "주의할 것이 각 리뷰마다의 길이, 즉 단어의 개수가 다르므로 이를 맞춰줄 필요가 있음\n",
    "\n",
    "따라서 단어개수가 하나도 없는 리뷰 or 너~무 많은 리뷰는 어느정도 제거해줘야함"
   ]
  },
  {
   "cell_type": "code",
   "execution_count": 37,
   "id": "1b2cb81d",
   "metadata": {},
   "outputs": [
    {
     "name": "stdout",
     "output_type": "stream",
     "text": [
      "minimum review length : 0\n",
      "Maximum review length : 2514\n"
     ]
    }
   ],
   "source": [
    "# 각 리뷰의 길이 추출\n",
    "len_review = [ len(r) for r in reviews_ints]\n",
    "print(f\"minimum review length : {min(len_review)}\")\n",
    "print(f\"Maximum review length : {max(len_review)}\")"
   ]
  },
  {
   "cell_type": "markdown",
   "id": "a276880a",
   "metadata": {},
   "source": [
    "<span style=\"color:red\">[!]</span> 길이가 0인, 즉 단어개수가 0인, 즉 아무것도 안써져있는 Review가 있나보네, 제일 긴 리뷰는 단어개수가 무려 2,514개"
   ]
  },
  {
   "cell_type": "code",
   "execution_count": null,
   "id": "374889df",
   "metadata": {},
   "outputs": [],
   "source": []
  }
 ],
 "metadata": {
  "kernelspec": {
   "display_name": "Python 3 (ipykernel)",
   "language": "python",
   "name": "python3"
  },
  "language_info": {
   "codemirror_mode": {
    "name": "ipython",
    "version": 3
   },
   "file_extension": ".py",
   "mimetype": "text/x-python",
   "name": "python",
   "nbconvert_exporter": "python",
   "pygments_lexer": "ipython3",
   "version": "3.9.7"
  }
 },
 "nbformat": 4,
 "nbformat_minor": 5
}
