{
 "cells": [
  {
   "cell_type": "code",
   "execution_count": 1,
   "id": "d17f19c4",
   "metadata": {},
   "outputs": [
    {
     "name": "stdout",
     "output_type": "stream",
     "text": [
      "Initialized empty Git repository in C:/Users/USER/Desktop/Sentiment_Analysis/.git/\n"
     ]
    },
    {
     "name": "stderr",
     "output_type": "stream",
     "text": [
      "hint: Using 'master' as the name for the initial branch. This default branch name\n",
      "hint: is subject to change. To configure the initial branch name to use in all\n",
      "hint: of your new repositories, which will suppress this warning, call:\n",
      "hint: \n",
      "hint: \tgit config --global init.defaultBranch <name>\n",
      "hint: \n",
      "hint: Names commonly chosen instead of 'master' are 'main', 'trunk' and\n",
      "hint: 'development'. The just-created branch can be renamed via this command:\n",
      "hint: \n",
      "hint: \tgit branch -m <name>\n"
     ]
    }
   ],
   "source": [
    "!git init"
   ]
  },
  {
   "cell_type": "code",
   "execution_count": 2,
   "id": "cfa89d42",
   "metadata": {},
   "outputs": [
    {
     "name": "stderr",
     "output_type": "stream",
     "text": [
      "warning: LF will be replaced by CRLF in .ipynb_checkpoints/Sentiment_RNN-checkpoint.ipynb.\n",
      "The file will have its original line endings in your working directory\n",
      "warning: LF will be replaced by CRLF in .ipynb_checkpoints/Sentiment_RNN_commit-checkpoint.ipynb.\n",
      "The file will have its original line endings in your working directory\n",
      "warning: LF will be replaced by CRLF in Sentiment_RNN.ipynb.\n",
      "The file will have its original line endings in your working directory\n",
      "warning: LF will be replaced by CRLF in Sentiment_RNN_commit.ipynb.\n",
      "The file will have its original line endings in your working directory\n",
      "warning: LF will be replaced by CRLF in data/labels.txt.\n",
      "The file will have its original line endings in your working directory\n",
      "warning: LF will be replaced by CRLF in data/reviews.txt.\n",
      "The file will have its original line endings in your working directory\n"
     ]
    }
   ],
   "source": [
    "!git add ."
   ]
  },
  {
   "cell_type": "code",
   "execution_count": 3,
   "id": "83d508a0",
   "metadata": {},
   "outputs": [],
   "source": [
    "!git config --global core.autocrlf True"
   ]
  },
  {
   "cell_type": "code",
   "execution_count": 4,
   "id": "53b83be5",
   "metadata": {},
   "outputs": [],
   "source": [
    "!git add ."
   ]
  },
  {
   "cell_type": "code",
   "execution_count": 5,
   "id": "c0a84138",
   "metadata": {},
   "outputs": [
    {
     "name": "stdout",
     "output_type": "stream",
     "text": [
      "[master (root-commit) c92abbf] 20220808 commit\n",
      " 6 files changed, 52762 insertions(+)\n",
      " create mode 100644 .ipynb_checkpoints/Sentiment_RNN-checkpoint.ipynb\n",
      " create mode 100644 .ipynb_checkpoints/Sentiment_RNN_commit-checkpoint.ipynb\n",
      " create mode 100644 Sentiment_RNN.ipynb\n",
      " create mode 100644 Sentiment_RNN_commit.ipynb\n",
      " create mode 100644 data/labels.txt\n",
      " create mode 100644 data/reviews.txt\n"
     ]
    }
   ],
   "source": [
    "!git commit -m \"20220808 commit\""
   ]
  },
  {
   "cell_type": "code",
   "execution_count": 6,
   "id": "9c903425",
   "metadata": {},
   "outputs": [],
   "source": [
    "!git branch -M main"
   ]
  },
  {
   "cell_type": "code",
   "execution_count": 7,
   "id": "8ee37887",
   "metadata": {},
   "outputs": [],
   "source": [
    "!git remote add origin https://github.com/olxtar/Sentiment_Analysis.git"
   ]
  },
  {
   "cell_type": "code",
   "execution_count": 8,
   "id": "e757299c",
   "metadata": {},
   "outputs": [
    {
     "name": "stdout",
     "output_type": "stream",
     "text": [
      "branch 'main' set up to track 'origin/main'.\n"
     ]
    },
    {
     "name": "stderr",
     "output_type": "stream",
     "text": [
      "To https://github.com/olxtar/Sentiment_Analysis.git\n",
      " * [new branch]      main -> main\n"
     ]
    }
   ],
   "source": [
    "!git push -u origin main"
   ]
  },
  {
   "cell_type": "markdown",
   "id": "47fe0e5e",
   "metadata": {},
   "source": [
    "---"
   ]
  },
  {
   "cell_type": "markdown",
   "id": "e0335656",
   "metadata": {},
   "source": [
    "### 수정 후 Commit"
   ]
  },
  {
   "cell_type": "markdown",
   "id": "530db98f",
   "metadata": {},
   "source": [
    "---"
   ]
  },
  {
   "cell_type": "code",
   "execution_count": 2,
   "id": "54929d8a",
   "metadata": {},
   "outputs": [],
   "source": [
    "!git config --global core.autocrlf True"
   ]
  },
  {
   "cell_type": "code",
   "execution_count": 3,
   "id": "08ce4190",
   "metadata": {},
   "outputs": [],
   "source": [
    "!git add ."
   ]
  },
  {
   "cell_type": "code",
   "execution_count": 4,
   "id": "fcb78dd9",
   "metadata": {},
   "outputs": [
    {
     "name": "stdout",
     "output_type": "stream",
     "text": [
      "[main 82297b5] 20220809 commit\n",
      " 5 files changed, 2769 insertions(+), 66 deletions(-)\n",
      " create mode 100644 SentimentRNN_epoch4.pt\n"
     ]
    }
   ],
   "source": [
    "!git commit -m \"20220809 commit\""
   ]
  },
  {
   "cell_type": "code",
   "execution_count": 5,
   "id": "7918980d",
   "metadata": {},
   "outputs": [
    {
     "name": "stderr",
     "output_type": "stream",
     "text": [
      "remote: error: Trace: 1b042bddb3f8c77ca2ca187a8019af54f27ccc804a2c2dfb7012f2c5df3da81a        \n",
      "remote: error: See http://git.io/iEPt8g for more information.        \n",
      "remote: error: File SentimentRNN_epoch4.pt is 117.61 MB; this exceeds GitHub's file size limit of 100.00 MB        \n",
      "remote: error: GH001: Large files detected. You may want to try Git Large File Storage - https://git-lfs.github.com.        \n",
      "To https://github.com/olxtar/Sentiment_Analysis.git\n",
      " ! [remote rejected] main -> main (pre-receive hook declined)\n",
      "error: failed to push some refs to 'https://github.com/olxtar/Sentiment_Analysis.git'\n"
     ]
    }
   ],
   "source": [
    "!git push -u origin main"
   ]
  },
  {
   "cell_type": "markdown",
   "id": "d156efe3",
   "metadata": {},
   "source": [
    "---"
   ]
  },
  {
   "cell_type": "markdown",
   "id": "1deb6b7a",
   "metadata": {},
   "source": [
    "### 이미 삭제한 큰용량의 파일 때문에 Git Repo에 Push실패 시"
   ]
  },
  {
   "cell_type": "markdown",
   "id": "895f6d48",
   "metadata": {},
   "source": [
    "1. Status를 확인\n",
    "2. Commit 삭제\n",
    "3. Stats 재확인"
   ]
  },
  {
   "cell_type": "code",
   "execution_count": 6,
   "id": "f5b52e9d",
   "metadata": {},
   "outputs": [
    {
     "name": "stdout",
     "output_type": "stream",
     "text": [
      "On branch main\n",
      "Your branch is ahead of 'origin/main' by 1 commit.\n",
      "  (use \"git push\" to publish your local commits)\n",
      "\n",
      "Changes not staged for commit:\n",
      "  (use \"git add/rm <file>...\" to update what will be committed)\n",
      "  (use \"git restore <file>...\" to discard changes in working directory)\n",
      "\tdeleted:    SentimentRNN_epoch4.pt\n",
      "\tmodified:   Sentiment_RNN_commit.ipynb\n",
      "\n",
      "no changes added to commit (use \"git add\" and/or \"git commit -a\")\n"
     ]
    }
   ],
   "source": [
    "!git status"
   ]
  },
  {
   "cell_type": "code",
   "execution_count": 7,
   "id": "5818b33c",
   "metadata": {},
   "outputs": [
    {
     "name": "stdout",
     "output_type": "stream",
     "text": [
      "Unstaged changes after reset:\n",
      "D\tSentimentRNN_epoch4.pt\n",
      "M\tSentiment_RNN_commit.ipynb\n"
     ]
    }
   ],
   "source": [
    "!git reset HEAD~0"
   ]
  },
  {
   "cell_type": "code",
   "execution_count": null,
   "id": "0451289b",
   "metadata": {},
   "outputs": [],
   "source": [
    "!git stat"
   ]
  }
 ],
 "metadata": {
  "kernelspec": {
   "display_name": "Python 3 (ipykernel)",
   "language": "python",
   "name": "python3"
  },
  "language_info": {
   "codemirror_mode": {
    "name": "ipython",
    "version": 3
   },
   "file_extension": ".py",
   "mimetype": "text/x-python",
   "name": "python",
   "nbconvert_exporter": "python",
   "pygments_lexer": "ipython3",
   "version": "3.9.7"
  }
 },
 "nbformat": 4,
 "nbformat_minor": 5
}
