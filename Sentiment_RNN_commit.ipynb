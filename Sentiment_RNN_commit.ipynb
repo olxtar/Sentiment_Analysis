{
 "cells": [
  {
   "cell_type": "code",
   "execution_count": 1,
   "id": "6f0bb232",
   "metadata": {},
   "outputs": [
    {
     "name": "stdout",
     "output_type": "stream",
     "text": [
      "Initialized empty Git repository in C:/Users/USER/Desktop/Sentiment_Analysis/.git/\n"
     ]
    },
    {
     "name": "stderr",
     "output_type": "stream",
     "text": [
      "hint: Using 'master' as the name for the initial branch. This default branch name\n",
      "hint: is subject to change. To configure the initial branch name to use in all\n",
      "hint: of your new repositories, which will suppress this warning, call:\n",
      "hint: \n",
      "hint: \tgit config --global init.defaultBranch <name>\n",
      "hint: \n",
      "hint: Names commonly chosen instead of 'master' are 'main', 'trunk' and\n",
      "hint: 'development'. The just-created branch can be renamed via this command:\n",
      "hint: \n",
      "hint: \tgit branch -m <name>\n"
     ]
    }
   ],
   "source": [
    "!git init"
   ]
  },
  {
   "cell_type": "code",
   "execution_count": 2,
   "id": "04b0e255",
   "metadata": {},
   "outputs": [
    {
     "name": "stderr",
     "output_type": "stream",
     "text": [
      "warning: LF will be replaced by CRLF in .ipynb_checkpoints/Sentiment_RNN-checkpoint.ipynb.\n",
      "The file will have its original line endings in your working directory\n",
      "warning: LF will be replaced by CRLF in .ipynb_checkpoints/Sentiment_RNN_commit-checkpoint.ipynb.\n",
      "The file will have its original line endings in your working directory\n",
      "warning: LF will be replaced by CRLF in Sentiment_RNN.ipynb.\n",
      "The file will have its original line endings in your working directory\n",
      "warning: LF will be replaced by CRLF in Sentiment_RNN_commit.ipynb.\n",
      "The file will have its original line endings in your working directory\n",
      "warning: LF will be replaced by CRLF in data/labels.txt.\n",
      "The file will have its original line endings in your working directory\n",
      "warning: LF will be replaced by CRLF in data/reviews.txt.\n",
      "The file will have its original line endings in your working directory\n"
     ]
    }
   ],
   "source": [
    "!git add ."
   ]
  },
  {
   "cell_type": "code",
   "execution_count": 3,
   "id": "1ea0f849",
   "metadata": {},
   "outputs": [],
   "source": [
    "!git config --global core.autocrlf True"
   ]
  },
  {
   "cell_type": "code",
   "execution_count": 4,
   "id": "065b09be",
   "metadata": {},
   "outputs": [],
   "source": [
    "!git add ."
   ]
  },
  {
   "cell_type": "code",
   "execution_count": 5,
   "id": "1e00000b",
   "metadata": {},
   "outputs": [
    {
     "name": "stdout",
     "output_type": "stream",
     "text": [
      "[master (root-commit) c92abbf] 20220808 commit\n",
      " 6 files changed, 52762 insertions(+)\n",
      " create mode 100644 .ipynb_checkpoints/Sentiment_RNN-checkpoint.ipynb\n",
      " create mode 100644 .ipynb_checkpoints/Sentiment_RNN_commit-checkpoint.ipynb\n",
      " create mode 100644 Sentiment_RNN.ipynb\n",
      " create mode 100644 Sentiment_RNN_commit.ipynb\n",
      " create mode 100644 data/labels.txt\n",
      " create mode 100644 data/reviews.txt\n"
     ]
    }
   ],
   "source": [
    "!git commit -m \"20220808 commit\""
   ]
  },
  {
   "cell_type": "code",
   "execution_count": 6,
   "id": "47760581",
   "metadata": {},
   "outputs": [],
   "source": [
    "!git branch -M main"
   ]
  },
  {
   "cell_type": "code",
   "execution_count": 7,
   "id": "8499b1b3",
   "metadata": {},
   "outputs": [],
   "source": [
    "!git remote add origin https://github.com/olxtar/Sentiment_Analysis.git"
   ]
  },
  {
   "cell_type": "code",
   "execution_count": 8,
   "id": "f238cad2",
   "metadata": {},
   "outputs": [
    {
     "name": "stdout",
     "output_type": "stream",
     "text": [
      "branch 'main' set up to track 'origin/main'.\n"
     ]
    },
    {
     "name": "stderr",
     "output_type": "stream",
     "text": [
      "To https://github.com/olxtar/Sentiment_Analysis.git\n",
      " * [new branch]      main -> main\n"
     ]
    }
   ],
   "source": [
    "!git push -u origin main"
   ]
  },
  {
   "cell_type": "markdown",
   "id": "cbed206f",
   "metadata": {},
   "source": [
    "---"
   ]
  },
  {
   "cell_type": "markdown",
   "id": "c59b5695",
   "metadata": {},
   "source": [
    "### 수정 후 Commit"
   ]
  },
  {
   "cell_type": "markdown",
   "id": "4eb9ae0b",
   "metadata": {},
   "source": [
    "---"
   ]
  },
  {
   "cell_type": "code",
   "execution_count": null,
   "id": "1d1dc199",
   "metadata": {},
   "outputs": [],
   "source": [
    "!git config --global core.autocrlf True"
   ]
  },
  {
   "cell_type": "code",
   "execution_count": null,
   "id": "f74d0648",
   "metadata": {},
   "outputs": [],
   "source": [
    "!git add ."
   ]
  },
  {
   "cell_type": "code",
   "execution_count": null,
   "id": "44b63266",
   "metadata": {},
   "outputs": [],
   "source": [
    "!git commit -m \"second commit\""
   ]
  },
  {
   "cell_type": "code",
   "execution_count": null,
   "id": "0cdb0e65",
   "metadata": {},
   "outputs": [],
   "source": [
    "!git push -u origin main"
   ]
  }
 ],
 "metadata": {
  "kernelspec": {
   "display_name": "Python 3 (ipykernel)",
   "language": "python",
   "name": "python3"
  },
  "language_info": {
   "codemirror_mode": {
    "name": "ipython",
    "version": 3
   },
   "file_extension": ".py",
   "mimetype": "text/x-python",
   "name": "python",
   "nbconvert_exporter": "python",
   "pygments_lexer": "ipython3",
   "version": "3.9.7"
  }
 },
 "nbformat": 4,
 "nbformat_minor": 5
}
